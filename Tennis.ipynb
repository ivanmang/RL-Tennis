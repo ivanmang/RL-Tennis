{
 "cells": [
  {
   "cell_type": "markdown",
   "metadata": {},
   "source": [
    "# Collaboration and Competition\n",
    "\n",
    "---\n",
    "\n",
    "In this notebook, you will learn how to use the Unity ML-Agents environment for the third project of the [Deep Reinforcement Learning Nanodegree](https://www.udacity.com/course/deep-reinforcement-learning-nanodegree--nd893) program.\n",
    "\n",
    "### 1. Start the Environment\n",
    "\n",
    "We begin by importing the necessary packages.  If the code cell below returns an error, please revisit the project instructions to double-check that you have installed [Unity ML-Agents](https://github.com/Unity-Technologies/ml-agents/blob/master/docs/Installation.md) and [NumPy](http://www.numpy.org/)."
   ]
  },
  {
   "cell_type": "code",
   "execution_count": 1,
   "metadata": {},
   "outputs": [],
   "source": [
    "from unityagents import UnityEnvironment\n",
    "import numpy as np"
   ]
  },
  {
   "cell_type": "markdown",
   "metadata": {},
   "source": [
    "Next, we will start the environment!  **_Before running the code cell below_**, change the `file_name` parameter to match the location of the Unity environment that you downloaded.\n",
    "\n",
    "- **Mac**: `\"path/to/Tennis.app\"`\n",
    "- **Windows** (x86): `\"path/to/Tennis_Windows_x86/Tennis.exe\"`\n",
    "- **Windows** (x86_64): `\"path/to/Tennis_Windows_x86_64/Tennis.exe\"`\n",
    "- **Linux** (x86): `\"path/to/Tennis_Linux/Tennis.x86\"`\n",
    "- **Linux** (x86_64): `\"path/to/Tennis_Linux/Tennis.x86_64\"`\n",
    "- **Linux** (x86, headless): `\"path/to/Tennis_Linux_NoVis/Tennis.x86\"`\n",
    "- **Linux** (x86_64, headless): `\"path/to/Tennis_Linux_NoVis/Tennis.x86_64\"`\n",
    "\n",
    "For instance, if you are using a Mac, then you downloaded `Tennis.app`.  If this file is in the same folder as the notebook, then the line below should appear as follows:\n",
    "```\n",
    "env = UnityEnvironment(file_name=\"Tennis.app\")\n",
    "```"
   ]
  },
  {
   "cell_type": "code",
   "execution_count": 2,
   "metadata": {},
   "outputs": [
    {
     "name": "stderr",
     "output_type": "stream",
     "text": [
      "INFO:unityagents:\n",
      "'Academy' started successfully!\n",
      "Unity Academy name: Academy\n",
      "        Number of Brains: 1\n",
      "        Number of External Brains : 1\n",
      "        Lesson number : 0\n",
      "        Reset Parameters :\n",
      "\t\t\n",
      "Unity brain name: TennisBrain\n",
      "        Number of Visual Observations (per agent): 0\n",
      "        Vector Observation space type: continuous\n",
      "        Vector Observation space size (per agent): 8\n",
      "        Number of stacked Vector Observation: 3\n",
      "        Vector Action space type: continuous\n",
      "        Vector Action space size (per agent): 2\n",
      "        Vector Action descriptions: , \n"
     ]
    }
   ],
   "source": [
    "env = UnityEnvironment(file_name=\"./Tennis_Linux/Tennis.x86_64\")"
   ]
  },
  {
   "cell_type": "markdown",
   "metadata": {},
   "source": [
    "Environments contain **_brains_** which are responsible for deciding the actions of their associated agents. Here we check for the first brain available, and set it as the default brain we will be controlling from Python."
   ]
  },
  {
   "cell_type": "code",
   "execution_count": 3,
   "metadata": {},
   "outputs": [],
   "source": [
    "# get the default brain\n",
    "brain_name = env.brain_names[0]\n",
    "brain = env.brains[brain_name]"
   ]
  },
  {
   "cell_type": "markdown",
   "metadata": {},
   "source": [
    "### 2. Examine the State and Action Spaces\n",
    "\n",
    "In this environment, two agents control rackets to bounce a ball over a net. If an agent hits the ball over the net, it receives a reward of +0.1.  If an agent lets a ball hit the ground or hits the ball out of bounds, it receives a reward of -0.01.  Thus, the goal of each agent is to keep the ball in play.\n",
    "\n",
    "The observation space consists of 8 variables corresponding to the position and velocity of the ball and racket. Two continuous actions are available, corresponding to movement toward (or away from) the net, and jumping. \n",
    "\n",
    "Run the code cell below to print some information about the environment."
   ]
  },
  {
   "cell_type": "code",
   "execution_count": 4,
   "metadata": {},
   "outputs": [
    {
     "name": "stdout",
     "output_type": "stream",
     "text": [
      "Number of agents: 2\n",
      "Size of each action: 2\n",
      "There are 2 agents. Each observes a state with length: 24\n",
      "The state for the first agent looks like: [ 0.          0.          0.          0.          0.          0.\n",
      "  0.          0.          0.          0.          0.          0.\n",
      "  0.          0.          0.          0.         -6.65278625 -1.5\n",
      " -0.          0.          6.83172083  6.         -0.          0.        ]\n"
     ]
    }
   ],
   "source": [
    "# reset the environment\n",
    "env_info = env.reset(train_mode=False)[brain_name]\n",
    "\n",
    "# number of agents \n",
    "num_agents = len(env_info.agents)\n",
    "print('Number of agents:', num_agents)\n",
    "\n",
    "# size of each action\n",
    "action_size = brain.vector_action_space_size\n",
    "print('Size of each action:', action_size)\n",
    "\n",
    "# examine the state space \n",
    "states = env_info.vector_observations\n",
    "state_size = states.shape[1]\n",
    "print('There are {} agents. Each observes a state with length: {}'.format(states.shape[0], state_size))\n",
    "print('The state for the first agent looks like:', states[0])"
   ]
  },
  {
   "cell_type": "markdown",
   "metadata": {},
   "source": [
    "### 3. Take Random Actions in the Environment\n",
    "\n",
    "In the next code cell, you will learn how to use the Python API to control the agents and receive feedback from the environment.\n",
    "\n",
    "Once this cell is executed, you will watch the agents' performance, if they select actions at random with each time step.  A window should pop up that allows you to observe the agents.\n",
    "\n",
    "Of course, as part of the project, you'll have to change the code so that the agents are able to use their experiences to gradually choose better actions when interacting with the environment!"
   ]
  },
  {
   "cell_type": "code",
   "execution_count": 5,
   "metadata": {},
   "outputs": [],
   "source": [
    "# for i in range(1, 6):                                      # play game for 5 episodes\n",
    "#     env_info = env.reset(train_mode=False)[brain_name]     # reset the environment    \n",
    "#     states = env_info.vector_observations                  # get the current state (for each agent)\n",
    "#     scores = np.zeros(num_agents)                          # initialize the score (for each agent)\n",
    "#     while True:\n",
    "#         actions = np.random.randn(num_agents, action_size) # select an action (for each agent)\n",
    "#         actions = np.clip(actions, -1, 1)                  # all actions between -1 and 1\n",
    "#         env_info = env.step(actions)[brain_name]           # send all actions to tne environment\n",
    "#         next_states = env_info.vector_observations         # get next state (for each agent)\n",
    "#         rewards = env_info.rewards                         # get reward (for each agent)\n",
    "#         dones = env_info.local_done                        # see if episode finished\n",
    "#         scores += env_info.rewards                         # update the score (for each agent)\n",
    "#         states = next_states                               # roll over states to next time step\n",
    "#         if np.any(dones):                                  # exit loop if episode finished\n",
    "#             break\n",
    "#     print('Score (max over agents) from episode {}: {}'.format(i, np.max(scores)))"
   ]
  },
  {
   "cell_type": "markdown",
   "metadata": {},
   "source": [
    "### 4. It's Your Turn!\n",
    "\n",
    "Now it's your turn to train your own agent to solve the environment!  When training the environment, set `train_mode=True`, so that the line for resetting the environment looks like the following:\n",
    "```python\n",
    "env_info = env.reset(train_mode=True)[brain_name]\n",
    "```"
   ]
  },
  {
   "cell_type": "code",
   "execution_count": 6,
   "metadata": {},
   "outputs": [
    {
     "name": "stderr",
     "output_type": "stream",
     "text": [
      "/nfs/home/ivanmang/anaconda3/envs/drlnd/lib/python3.6/site-packages/torch/cuda/__init__.py:52: UserWarning: CUDA initialization: Unexpected error from cudaGetDeviceCount(). Did you run some cuda functions before calling NumCudaDevices() that might have already set an error? Error 804: forward compatibility was attempted on non supported HW (Triggered internally at  /opt/conda/conda-bld/pytorch_1616554789074/work/c10/cuda/CUDAFunctions.cpp:109.)\n",
      "  return torch._C._cuda_getDeviceCount() > 0\n"
     ]
    },
    {
     "name": "stdout",
     "output_type": "stream",
     "text": [
      "Episode 100\tAverage Score: 0.007\tCurrent Score: 0.000\n",
      "Episode 200\tAverage Score: 0.001\tCurrent Score: 0.000\n",
      "Episode 300\tAverage Score: 0.005\tCurrent Score: 0.000\n",
      "Episode 400\tAverage Score: 0.016\tCurrent Score: 0.000\n",
      "Episode 500\tAverage Score: 0.034\tCurrent Score: 0.100\n",
      "Episode 600\tAverage Score: 0.040\tCurrent Score: 0.000\n",
      "Episode 700\tAverage Score: 0.009\tCurrent Score: 0.000\n",
      "Episode 800\tAverage Score: 0.026\tCurrent Score: 0.000\n",
      "Episode 900\tAverage Score: 0.045\tCurrent Score: 0.000\n",
      "Episode 1000\tAverage Score: 0.052\tCurrent Score: 0.000\n",
      "Episode 1100\tAverage Score: 0.059\tCurrent Score: 0.090\n",
      "Episode 1200\tAverage Score: 0.081\tCurrent Score: 0.090\n",
      "Episode 1300\tAverage Score: 0.112\tCurrent Score: 0.100\n",
      "Episode 1400\tAverage Score: 0.128\tCurrent Score: 0.100\n",
      "Episode 1500\tAverage Score: 0.113\tCurrent Score: 0.100\n",
      "Episode 1600\tAverage Score: 0.126\tCurrent Score: 0.190\n",
      "Episode 1700\tAverage Score: 0.116\tCurrent Score: 0.190\n",
      "Episode 1800\tAverage Score: 0.111\tCurrent Score: 0.100\n",
      "Episode 1900\tAverage Score: 0.142\tCurrent Score: 0.300\n",
      "Episode 2000\tAverage Score: 0.127\tCurrent Score: 0.090\n",
      "Episode 2100\tAverage Score: 0.130\tCurrent Score: 0.090\n",
      "Episode 2200\tAverage Score: 0.176\tCurrent Score: 0.100\n",
      "Episode 2300\tAverage Score: 0.142\tCurrent Score: 0.100\n",
      "Episode 2400\tAverage Score: 0.163\tCurrent Score: 0.100\n",
      "Episode 2500\tAverage Score: 0.175\tCurrent Score: 0.100\n",
      "Episode 2600\tAverage Score: 0.170\tCurrent Score: 0.100\n",
      "Episode 2700\tAverage Score: 0.184\tCurrent Score: 0.100\n",
      "Episode 2800\tAverage Score: 0.194\tCurrent Score: 0.100\n",
      "Episode 2900\tAverage Score: 0.189\tCurrent Score: 0.000\n",
      "Episode 3000\tAverage Score: 0.143\tCurrent Score: 0.100\n",
      "Episode 3100\tAverage Score: 0.152\tCurrent Score: 0.200\n",
      "Episode 3200\tAverage Score: 0.165\tCurrent Score: 0.390\n",
      "Episode 3300\tAverage Score: 0.198\tCurrent Score: 0.090\n",
      "Episode 3400\tAverage Score: 0.196\tCurrent Score: 0.100\n",
      "Episode 3500\tAverage Score: 0.238\tCurrent Score: 0.200\n",
      "Episode 3600\tAverage Score: 0.212\tCurrent Score: 0.200\n",
      "Episode 3700\tAverage Score: 0.216\tCurrent Score: 0.100\n",
      "Episode 3800\tAverage Score: 0.229\tCurrent Score: 0.300\n",
      "Episode 3900\tAverage Score: 0.267\tCurrent Score: 0.100\n",
      "Episode 4000\tAverage Score: 0.314\tCurrent Score: 0.100\n",
      "Episode 4100\tAverage Score: 0.248\tCurrent Score: 0.000\n",
      "Episode 4200\tAverage Score: 0.307\tCurrent Score: 0.300\n",
      "Episode 4300\tAverage Score: 0.254\tCurrent Score: 0.500\n",
      "Episode 4400\tAverage Score: 0.290\tCurrent Score: 0.090\n",
      "Episode 4500\tAverage Score: 0.282\tCurrent Score: 0.000\n",
      "Episode 4600\tAverage Score: 0.312\tCurrent Score: 0.100\n",
      "Episode 4700\tAverage Score: 0.235\tCurrent Score: 0.200\n",
      "Episode 4800\tAverage Score: 0.246\tCurrent Score: 0.200\n",
      "Episode 4900\tAverage Score: 0.237\tCurrent Score: 0.090\n",
      "Episode 5000\tAverage Score: 0.368\tCurrent Score: 0.000\n",
      "Episode 5100\tAverage Score: 0.101\tCurrent Score: 0.100\n",
      "Episode 5200\tAverage Score: 0.063\tCurrent Score: 0.100\n",
      "Episode 5300\tAverage Score: 0.105\tCurrent Score: 0.500\n",
      "Episode 5400\tAverage Score: 0.194\tCurrent Score: 0.700\n",
      "Episode 5500\tAverage Score: 0.336\tCurrent Score: 0.090\n",
      "Episode 5600\tAverage Score: 0.375\tCurrent Score: 0.090\n",
      "Episode 5700\tAverage Score: 0.419\tCurrent Score: 0.000\n",
      "Episode 5800\tAverage Score: 0.442\tCurrent Score: 0.300\n",
      "Episode 5900\tAverage Score: 0.401\tCurrent Score: 1.200\n",
      "Episode 5958\tAverage Score: 0.501\tCurrent Score: 0.300\n",
      "Environment solved in 5958 episodes!\tAverage Score: 0.50\n"
     ]
    },
    {
     "data": {
      "image/png": "[encoded data removed]",
      "text/plain": [
       "<Figure size 432x288 with 1 Axes>"
      ]
     },
     "metadata": {
      "needs_background": "light"
     },
     "output_type": "display_data"
    }
   ],
   "source": [
    "from ddpg_agent import Agent\n",
    "from collections import deque\n",
    "from maddpg import MADDPG\n",
    "import random\n",
    "import matplotlib.pyplot as plt\n",
    "import torch\n",
    "%matplotlib inline\n",
    "all_scores = []\n",
    "agent = MADDPG(num_agents, state_size, action_size, 1)\n",
    "\n",
    "def ddpg(n_episodes=10000, print_every=100):\n",
    "    scores_deque = deque(maxlen=print_every)\n",
    "    \n",
    "    solved = False\n",
    "    \n",
    "    for i_episode in range(1, n_episodes+1):\n",
    "        env_info = env.reset(train_mode=True)[brain_name]\n",
    "        states = env_info.vector_observations\n",
    "        agent.reset()\n",
    "        scores = np.zeros(num_agents)\n",
    "        \n",
    "        while True:\n",
    "            actions = agent.act(states)\n",
    "            env_info = env.step(actions)[brain_name] \n",
    "            next_states = env_info.vector_observations\n",
    "            rewards = env_info.rewards                         # get reward (for each agent)\n",
    "            dones = env_info.local_done                        # see if episode finished\n",
    "            scores += rewards                        # update the score (for each agent)\n",
    "            agent.step(states, actions, rewards, next_states, dones)\n",
    "            states = next_states                               # roll over states to next time step\n",
    "            \n",
    "            if np.any(dones):\n",
    "                break \n",
    "        # Get the max scores from all agents\n",
    "        max_score = np.max(scores)\n",
    "        scores_deque.append(max_score)\n",
    "        all_scores.append(max_score)\n",
    "        deque_mean = np.mean(scores_deque)\n",
    "        \n",
    "        print('\\rEpisode {}\\tAverage Score: {:.3f}\\tCurrent Score: {:.3f}'.format(i_episode, deque_mean, max_score), end=\"\")\n",
    "        if i_episode % print_every == 0:\n",
    "            print('\\rEpisode {}\\tAverage Score: {:.3f}'.format(i_episode, deque_mean))\n",
    "\n",
    "        # Print the episode when the environment is solved and continue training\n",
    "        if len(scores_deque) == 100 and deque_mean > 0.5 and solved == False:\n",
    "            solved = True\n",
    "            print('\\nEnvironment solved in {:d} episodes!\\tAverage Score: {:.2f}'.format(i_episode, deque_mean))\n",
    "            break\n",
    "    \n",
    "    # Save the param of the trained agent\n",
    "    agent.save_weight()\n",
    "    return all_scores\n",
    "\n",
    "all_scores = ddpg()\n",
    "\n",
    "fig = plt.figure()\n",
    "ax = fig.add_subplot(111)\n",
    "plt.plot(np.arange(1, len(all_scores)+1), all_scores)\n",
    "plt.ylabel('Score')\n",
    "plt.xlabel('Episode #')\n",
    "plt.show()"
   ]
  },
  {
   "cell_type": "markdown",
   "metadata": {},
   "source": [
    "### 5. Watch the agents playing tennis"
   ]
  },
  {
   "cell_type": "code",
   "execution_count": 7,
   "metadata": {},
   "outputs": [
    {
     "name": "stdout",
     "output_type": "stream",
     "text": [
      "Score (max over agents) from episode 1: 1.9000000283122063\n",
      "Score (max over agents) from episode 2: 1.5900000240653753\n",
      "Score (max over agents) from episode 3: 1.1000000163912773\n",
      "Score (max over agents) from episode 4: 0.6000000089406967\n",
      "Score (max over agents) from episode 5: 0.20000000298023224\n"
     ]
    }
   ],
   "source": [
    "agent = MADDPG(num_agents, state_size, action_size, 1)\n",
    "for i in range(num_agents):\n",
    "    agent.agents[i].actor_local.load_state_dict(torch.load(f'checkpoint_actor_{i}.pth'))\n",
    "    agent.agents[i].critic_local.load_state_dict(torch.load(f'checkpoint_critic_{i}.pth'))\n",
    "for i in range(1, 6):  \n",
    "    #load the weights from file\n",
    "    env_info = env.reset(train_mode=False)[brain_name] # reset the environment\n",
    "    # Select the model weights trained, in this case we choose the double.pth\n",
    "\n",
    "    states = env_info.vector_observations           # get the current state\n",
    "    scores = np.zeros(num_agents)                                     # initialize the score\n",
    "    while True:\n",
    "        actions = agent.act(states) # select an action (for each agent)\n",
    "        actions = np.clip(actions, -1, 1)                  # all actions between -1 and 1\n",
    "        env_info = env.step(actions)[brain_name]           # send all actions to tne environment\n",
    "        next_states = env_info.vector_observations         # get next state (for each agent)\n",
    "        rewards = env_info.rewards                         # get reward (for each agent)\n",
    "        dones = env_info.local_done                        # see if episode finished\n",
    "        scores += env_info.rewards                         # update the score (for each agent)\n",
    "        states = next_states                               # roll over states to next time step\n",
    "        if np.any(dones):                                  # exit loop if episode finished\n",
    "            break\n",
    "    print('Score (max over agents) from episode {}: {}'.format(i, np.max(scores)))"
   ]
  },
  {
   "cell_type": "code",
   "execution_count": 8,
   "metadata": {},
   "outputs": [],
   "source": [
    "env.close()"
   ]
  },
  {
   "cell_type": "code",
   "execution_count": null,
   "metadata": {},
   "outputs": [],
   "source": []
  }
 ],
 "metadata": {
  "kernelspec": {
   "display_name": "drlnd",
   "language": "python",
   "name": "drlnd"
  },
  "language_info": {
   "codemirror_mode": {
    "name": "ipython",
    "version": 3
   },
   "file_extension": ".py",
   "mimetype": "text/x-python",
   "name": "python",
   "nbconvert_exporter": "python",
   "pygments_lexer": "ipython3",
   "version": "3.6.13"
  }
 },
 "nbformat": 4,
 "nbformat_minor": 2
}
